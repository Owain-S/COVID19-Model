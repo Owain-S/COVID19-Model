{
 "cells": [
  {
   "cell_type": "code",
   "execution_count": 38,
   "id": "e5a58c64",
   "metadata": {
    "ExecuteTime": {
     "end_time": "2022-02-24T13:20:52.179102Z",
     "start_time": "2022-02-24T13:20:52.171088Z"
    }
   },
   "outputs": [],
   "source": [
    "# Load packages\n",
    "\n",
    "import numpy as np\n",
    "import pandas as pd\n",
    "import matplotlib.pyplot as plt\n",
    "\n",
    "from covid19model.models.models import COVID19_SEIQRD_spatial_stratified_rescaling\n",
    "from covid19model.models.utils import initialize_COVID19_SEIQRD_stratified_vacc\n",
    "\n",
    "# Import time-dependent parameter functions for resp. P, Nc, alpha, N_vacc, season_factor\n",
    "from covid19model.models.time_dependant_parameter_fncs import make_mobility_update_function, \\\n",
    "                                                          make_contact_matrix_function, \\\n",
    "                                                          make_VOC_function, \\\n",
    "                                                          make_vaccination_function, \\\n",
    "                                                          make_seasonality_function\n",
    "# Import packages containing functions to load in data used in the model and the time-dependent parameter functions\n",
    "from covid19model.data import mobility, sciensano, model_parameters, VOC"
   ]
  },
  {
   "cell_type": "code",
   "execution_count": 30,
   "id": "feff8dd0",
   "metadata": {
    "ExecuteTime": {
     "end_time": "2022-02-24T13:14:29.308486Z",
     "start_time": "2022-02-24T13:14:27.591735Z"
    }
   },
   "outputs": [],
   "source": [
    "# load data\n",
    "\n",
    "# Population size, interaction matrices and the model parameters\n",
    "initN, Nc_dict, params, CORE_samples_dict = model_parameters.get_COVID19_SEIQRD_parameters(spatial='prov')\n",
    "\n",
    "# Google Mobility data (for social contact Nc)\n",
    "df_google = mobility.get_google_mobility_data(update=False, provincial=True)\n",
    "\n",
    "# Load and format mobility dataframe (for mobility place)\n",
    "proximus_mobility_data = mobility.get_proximus_mobility_data('prov')\n",
    "\n",
    "# Variants of concern\n",
    "VOCs = ['WT', 'abc', 'delta']\n",
    "VOC_logistic_growth_parameters, VOC_params = model_parameters.get_COVID19_SEIQRD_VOC_parameters(initN, params['h'], VOCs=VOCs)\n",
    "params.update(VOC_params)\n",
    "\n",
    "# Load and format local vaccination data, which is also under the sciensano object\n",
    "public_spatial_vaccination_data = sciensano.get_public_spatial_vaccination_data(update=False,agg='prov')"
   ]
  },
  {
   "cell_type": "code",
   "execution_count": 32,
   "id": "6bbca13f",
   "metadata": {
    "ExecuteTime": {
     "end_time": "2022-02-24T13:16:33.825431Z",
     "start_time": "2022-02-24T13:16:33.812494Z"
    }
   },
   "outputs": [],
   "source": [
    "# Delete parameters that are superfluous for the new approach\n",
    "superfluous_params = ['f_immune_escape', 'e_s', 'e_h', 'e_i', 'doses', 'd_vacc', 'N_vacc', 'daily_doses', 'delay_immunity', 'vacc_order', 'stop_idx', 'refusal']\n",
    "for key in superfluous_params:\n",
    "    if key in params:\n",
    "        params.pop(key)"
   ]
  },
  {
   "cell_type": "code",
   "execution_count": 41,
   "id": "b66731c2",
   "metadata": {
    "ExecuteTime": {
     "end_time": "2022-02-24T13:23:06.939277Z",
     "start_time": "2022-02-24T13:21:08.416326Z"
    }
   },
   "outputs": [],
   "source": [
    "# Time-dependent parameter functions\n",
    "\n",
    "# Time-dependent social contact matrix over all policies, updating Nc\n",
    "policy_function = make_contact_matrix_function(df_google, Nc_dict).policies_all_spatial\n",
    "policy_function_work = make_contact_matrix_function(df_google, Nc_dict).policies_all_work_only\n",
    "\n",
    "# Time-dependent mobility function, updating P (place)\n",
    "mobility_function = make_mobility_update_function(proximus_mobility_data).mobility_wrapper_func\n",
    "\n",
    "# Time-dependent VOC function, updating alpha\n",
    "VOC_function = make_VOC_function(VOC_logistic_growth_parameters)\n",
    "\n",
    "# Time-dependent vaccination-induced rescaling parameter functions, updating E_susc^g, E_inf^g, E_hosp^g\n",
    "E_susc_function, E_inf_function, E_hosp_function = make_vaccination_rescaling_functions(public_spatial_vaccination_data['INCIDENCE'],\n",
    "                                                                                       VOC_function)\n",
    "\n",
    "# Time-dependent seasonality function, updating season_factor\n",
    "seasonality_function = make_seasonality_function()"
   ]
  },
  {
   "cell_type": "code",
   "execution_count": 46,
   "id": "fb29773a",
   "metadata": {
    "ExecuteTime": {
     "end_time": "2022-02-24T13:28:30.957503Z",
     "start_time": "2022-02-24T13:28:30.938335Z"
    }
   },
   "outputs": [
    {
     "data": {
      "text/plain": [
       "array([0.        , 0.93339196, 0.06660804])"
      ]
     },
     "execution_count": 46,
     "metadata": {},
     "output_type": "execute_result"
    }
   ],
   "source": [
    "VOC_function(pd.Timestamp(2021, 6, 1), 0, 0)[0]"
   ]
  }
 ],
 "metadata": {
  "kernelspec": {
   "display_name": "Python 3 (ipykernel)",
   "language": "python",
   "name": "python3"
  },
  "language_info": {
   "codemirror_mode": {
    "name": "ipython",
    "version": 3
   },
   "file_extension": ".py",
   "mimetype": "text/x-python",
   "name": "python",
   "nbconvert_exporter": "python",
   "pygments_lexer": "ipython3",
   "version": "3.7.3"
  },
  "toc": {
   "base_numbering": 1,
   "nav_menu": {},
   "number_sections": true,
   "sideBar": true,
   "skip_h1_title": false,
   "title_cell": "Table of Contents",
   "title_sidebar": "Contents",
   "toc_cell": false,
   "toc_position": {},
   "toc_section_display": true,
   "toc_window_display": false
  }
 },
 "nbformat": 4,
 "nbformat_minor": 5
}
