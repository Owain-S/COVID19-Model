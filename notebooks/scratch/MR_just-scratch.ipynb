{
 "cells": [
  {
   "cell_type": "code",
   "execution_count": 1,
   "metadata": {
    "ExecuteTime": {
     "end_time": "2022-02-23T14:13:32.394756Z",
     "start_time": "2022-02-23T14:13:29.322537Z"
    }
   },
   "outputs": [],
   "source": [
    "import numpy as np\n",
    "import pandas as pd\n",
    "from covid19model.data.model_parameters import * "
   ]
  },
  {
   "cell_type": "code",
   "execution_count": 4,
   "metadata": {
    "ExecuteTime": {
     "end_time": "2022-02-23T14:13:48.883369Z",
     "start_time": "2022-02-23T14:13:48.264081Z"
    }
   },
   "outputs": [],
   "source": [
    "initN, Nc_dict, pars_dict, CORE_samples_dict = get_COVID19_SEIQRD_parameters(spatial='prov')"
   ]
  },
  {
   "cell_type": "code",
   "execution_count": 14,
   "metadata": {
    "ExecuteTime": {
     "end_time": "2022-02-23T15:31:04.101737Z",
     "start_time": "2022-02-23T15:31:04.091772Z"
    }
   },
   "outputs": [
    {
     "data": {
      "text/plain": [
       "(11,)"
      ]
     },
     "execution_count": 14,
     "metadata": {},
     "output_type": "execute_result"
    }
   ],
   "source": [
    "pars_dict.keys()\n",
    "pars_dict['place']\n",
    "E_inf = np.array([1.1, 1.2, 1.3, 1.4, 1.5, 1.6, 1.7, 1.8, 1.9, 2.0, 2.1])\n"
   ]
  },
  {
   "cell_type": "code",
   "execution_count": 69,
   "metadata": {
    "ExecuteTime": {
     "end_time": "2022-02-23T16:27:27.912702Z",
     "start_time": "2022-02-23T16:27:27.903686Z"
    }
   },
   "outputs": [
    {
     "data": {
      "text/plain": [
       "(10, 10)"
      ]
     },
     "execution_count": 69,
     "metadata": {},
     "output_type": "execute_result"
    }
   ],
   "source": [
    "from numba import jit\n",
    "# @staticmethod\n",
    "# @jit(nopython=True)\n",
    "\n",
    "T = initN.values\n",
    "place = pars_dict['place']\n",
    "\n",
    "Nc_dict['total']"
   ]
  },
  {
   "cell_type": "code",
   "execution_count": 71,
   "metadata": {
    "ExecuteTime": {
     "end_time": "2022-02-23T16:30:13.388091Z",
     "start_time": "2022-02-23T16:30:13.065999Z"
    }
   },
   "outputs": [],
   "source": [
    "from covid19model.models.time_dependant_parameter_fncs import make_mobility_update_function, \\\n",
    "                                                              make_contact_matrix_function, \\\n",
    "                                                              make_seasonality_function\n",
    "from covid19model.data import mobility\n",
    "\n",
    "df_google = mobility.get_google_mobility_data(update=False, provincial=True)\n",
    "\n",
    "policy_function = make_contact_matrix_function(df_google, Nc_dict).policies_all_spatial\n",
    "policy_function_work = make_contact_matrix_function(df_google, Nc_dict).policies_all_work_only"
   ]
  },
  {
   "cell_type": "code",
   "execution_count": 80,
   "metadata": {
    "ExecuteTime": {
     "end_time": "2022-02-23T16:34:08.669232Z",
     "start_time": "2022-02-23T16:34:08.650239Z"
    }
   },
   "outputs": [
    {
     "data": {
      "text/plain": [
       "array([[11]])"
      ]
     },
     "execution_count": 80,
     "metadata": {},
     "output_type": "execute_result"
    }
   ],
   "source": [
    "Nc_g = policy_function(pd.Timestamp(2021, 1, 1), 0, 0, 1, 1, .5, .5, .5, .5, .8)\n",
    "\n",
    "Nc_g.shape\n",
    "\n",
    "np.diag([11])"
   ]
  }
 ],
 "metadata": {
  "kernelspec": {
   "display_name": "Python 3 (ipykernel)",
   "language": "python",
   "name": "python3"
  },
  "language_info": {
   "codemirror_mode": {
    "name": "ipython",
    "version": 3
   },
   "file_extension": ".py",
   "mimetype": "text/x-python",
   "name": "python",
   "nbconvert_exporter": "python",
   "pygments_lexer": "ipython3",
   "version": "3.7.3"
  },
  "toc": {
   "base_numbering": 1,
   "nav_menu": {},
   "number_sections": true,
   "sideBar": true,
   "skip_h1_title": false,
   "title_cell": "Table of Contents",
   "title_sidebar": "Contents",
   "toc_cell": false,
   "toc_position": {},
   "toc_section_display": true,
   "toc_window_display": false
  }
 },
 "nbformat": 4,
 "nbformat_minor": 2
}
