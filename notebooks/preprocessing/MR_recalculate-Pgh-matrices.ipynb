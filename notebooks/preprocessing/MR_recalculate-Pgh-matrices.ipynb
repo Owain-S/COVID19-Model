{
 "cells": [
  {
   "cell_type": "markdown",
   "id": "09c29add",
   "metadata": {},
   "source": [
    "There is an issue with the resulting time series that have been used in the model so far. In short: people appear to spend more time in other provinces during the weekends as compared to during weekdays. This is not realistic and does not correspond to the raw data. Let's plot some raw data first."
   ]
  },
  {
   "cell_type": "code",
   "execution_count": 1,
   "id": "54e99734",
   "metadata": {
    "ExecuteTime": {
     "end_time": "2022-02-02T15:55:11.027666Z",
     "start_time": "2022-02-02T15:55:10.653331Z"
    }
   },
   "outputs": [
    {
     "ename": "NameError",
     "evalue": "name 'load_datafile_proximus' is not defined",
     "output_type": "error",
     "traceback": [
      "\u001b[1;31m---------------------------------------------------------------------------\u001b[0m",
      "\u001b[1;31mNameError\u001b[0m                                 Traceback (most recent call last)",
      "\u001b[1;32m~\\AppData\\Local\\Temp/ipykernel_3876/3115786410.py\u001b[0m in \u001b[0;36m<module>\u001b[1;34m\u001b[0m\n\u001b[0;32m      3\u001b[0m \u001b[0mdate\u001b[0m \u001b[1;33m=\u001b[0m \u001b[1;34m'20210127'\u001b[0m\u001b[1;33m\u001b[0m\u001b[1;33m\u001b[0m\u001b[0m\n\u001b[0;32m      4\u001b[0m \u001b[0mdata_location\u001b[0m \u001b[1;33m=\u001b[0m \u001b[1;34m\"../../data/raw/mobility/proximus/\"\u001b[0m\u001b[1;33m\u001b[0m\u001b[1;33m\u001b[0m\u001b[0m\n\u001b[1;32m----> 5\u001b[1;33m \u001b[0munprocessed_data\u001b[0m \u001b[1;33m=\u001b[0m \u001b[0mload_datafile_proximus\u001b[0m\u001b[1;33m(\u001b[0m\u001b[0mdate\u001b[0m\u001b[1;33m,\u001b[0m \u001b[0mdata_location\u001b[0m\u001b[1;33m)\u001b[0m\u001b[1;33m\u001b[0m\u001b[1;33m\u001b[0m\u001b[0m\n\u001b[0m\u001b[0;32m      6\u001b[0m \u001b[1;33m\u001b[0m\u001b[0m\n\u001b[0;32m      7\u001b[0m \u001b[0munprocessed_data\u001b[0m\u001b[1;33m.\u001b[0m\u001b[0mhead\u001b[0m\u001b[1;33m(\u001b[0m\u001b[1;33m)\u001b[0m\u001b[1;33m\u001b[0m\u001b[1;33m\u001b[0m\u001b[0m\n",
      "\u001b[1;31mNameError\u001b[0m: name 'load_datafile_proximus' is not defined"
     ]
    }
   ],
   "source": [
    "import pandas as pd\n",
    "\n",
    "date = '20210127'\n",
    "data_location = \"../../data/raw/mobility/proximus/\"\n",
    "data_name = \n",
    "unprocessed_data = pd.read_csv(date, data_location)\n",
    "\n",
    "unprocessed_data.head()"
   ]
  }
 ],
 "metadata": {
  "kernelspec": {
   "display_name": "Python 3 (ipykernel)",
   "language": "python",
   "name": "python3"
  },
  "language_info": {
   "codemirror_mode": {
    "name": "ipython",
    "version": 3
   },
   "file_extension": ".py",
   "mimetype": "text/x-python",
   "name": "python",
   "nbconvert_exporter": "python",
   "pygments_lexer": "ipython3",
   "version": "3.7.3"
  },
  "toc": {
   "base_numbering": 1,
   "nav_menu": {},
   "number_sections": true,
   "sideBar": true,
   "skip_h1_title": false,
   "title_cell": "Table of Contents",
   "title_sidebar": "Contents",
   "toc_cell": false,
   "toc_position": {},
   "toc_section_display": true,
   "toc_window_display": false
  }
 },
 "nbformat": 4,
 "nbformat_minor": 5
}
